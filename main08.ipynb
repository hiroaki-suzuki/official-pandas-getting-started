{
 "cells": [
  {
   "cell_type": "code",
   "execution_count": 1,
   "id": "initial_id",
   "metadata": {
    "collapsed": true,
    "ExecuteTime": {
     "end_time": "2023-09-25T12:57:19.251694Z",
     "start_time": "2023-09-25T12:57:18.712921Z"
    }
   },
   "outputs": [],
   "source": [
    "import pandas as pd"
   ]
  },
  {
   "cell_type": "code",
   "execution_count": 2,
   "outputs": [
    {
     "name": "stdout",
     "output_type": "stream",
     "text": [
      "--2023-09-25 21:57:19--  ftp://https/\r\n",
      "           => ‘data/.listing’\r\n",
      "Resolving https (https)... failed: nodename nor servname provided, or not known.\r\n",
      "wget: unable to resolve host address ‘https’\r\n",
      "//: Scheme missing.\r\n",
      "URL transformed to HTTPS due to an HSTS policy\r\n",
      "--2023-09-25 21:57:19--  https://raw.githubusercontent.com/pandas-dev/pandas/main/doc/data/air_quality_no2_long.csv\r\n",
      "Resolving raw.githubusercontent.com (raw.githubusercontent.com)... 185.199.111.133, 185.199.108.133, 185.199.109.133, ...\r\n",
      "Connecting to raw.githubusercontent.com (raw.githubusercontent.com)|185.199.111.133|:443... connected.\r\n",
      "HTTP request sent, awaiting response... 200 OK\r\n",
      "Length: 135993 (133K) [text/plain]\r\n",
      "Saving to: ‘data/air_quality_no2_long.csv.1’\r\n",
      "\r\n",
      "air_quality_no2_lon 100%[===================>] 132.81K  --.-KB/s    in 0s      \r\n",
      "\r\n",
      "2023-09-25 21:57:19 (291 MB/s) - ‘data/air_quality_no2_long.csv.1’ saved [135993/135993]\r\n",
      "\r\n",
      "FINISHED --2023-09-25 21:57:19--\r\n",
      "Total wall clock time: 0.5s\r\n",
      "Downloaded: 1 files, 133K in 0s (291 MB/s)\r\n",
      "--2023-09-25 21:57:20--  ftp://https/\r\n",
      "           => ‘data/.listing’\r\n",
      "Resolving https (https)... failed: nodename nor servname provided, or not known.\r\n",
      "wget: unable to resolve host address ‘https’\r\n",
      "//: Scheme missing.\r\n",
      "URL transformed to HTTPS due to an HSTS policy\r\n",
      "--2023-09-25 21:57:20--  https://raw.githubusercontent.com/pandas-dev/pandas/main/doc/data/air_quality_pm25_long.csv\r\n",
      "Resolving raw.githubusercontent.com (raw.githubusercontent.com)... 185.199.111.133, 185.199.108.133, 185.199.109.133, ...\r\n",
      "Connecting to raw.githubusercontent.com (raw.githubusercontent.com)|185.199.111.133|:443... connected.\r\n",
      "HTTP request sent, awaiting response... 200 OK\r\n",
      "Length: 79525 (78K) [text/plain]\r\n",
      "Saving to: ‘data/air_quality_pm25_long.csv.1’\r\n",
      "\r\n",
      "air_quality_pm25_lo 100%[===================>]  77.66K  --.-KB/s    in 0s      \r\n",
      "\r\n",
      "2023-09-25 21:57:20 (166 MB/s) - ‘data/air_quality_pm25_long.csv.1’ saved [79525/79525]\r\n",
      "\r\n",
      "FINISHED --2023-09-25 21:57:20--\r\n",
      "Total wall clock time: 0.4s\r\n",
      "Downloaded: 1 files, 78K in 0s (166 MB/s)\r\n"
     ]
    }
   ],
   "source": [
    "!wget https: // raw.githubusercontent.com/pandas-dev/pandas/main/doc/data/air_quality_no2_long.csv -P data\n",
    "!wget https: // raw.githubusercontent.com/pandas-dev/pandas/main/doc/data/air_quality_pm25_long.csv -P data"
   ],
   "metadata": {
    "collapsed": false,
    "ExecuteTime": {
     "end_time": "2023-09-25T12:57:20.799516Z",
     "start_time": "2023-09-25T12:57:19.253295Z"
    }
   },
   "id": "2786cb9ef21b57d"
  },
  {
   "cell_type": "code",
   "execution_count": 3,
   "outputs": [],
   "source": [
    "air_quality_no2 = pd.read_csv(\"data/air_quality_no2_long.csv\", parse_dates=True)"
   ],
   "metadata": {
    "collapsed": false,
    "ExecuteTime": {
     "end_time": "2023-09-25T12:57:20.815974Z",
     "start_time": "2023-09-25T12:57:20.802030Z"
    }
   },
   "id": "cd911a7b3722bcbe"
  },
  {
   "cell_type": "code",
   "execution_count": 4,
   "outputs": [],
   "source": [
    "air_quality_no2 = air_quality_no2[[\"date.utc\", \"location\", \"parameter\", \"value\"]]"
   ],
   "metadata": {
    "collapsed": false,
    "ExecuteTime": {
     "end_time": "2023-09-25T12:57:20.836439Z",
     "start_time": "2023-09-25T12:57:20.818648Z"
    }
   },
   "id": "64d98340acc26720"
  },
  {
   "cell_type": "code",
   "execution_count": 5,
   "outputs": [
    {
     "data": {
      "text/plain": "                    date.utc location parameter  value\n0  2019-06-21 00:00:00+00:00  FR04014       no2   20.0\n1  2019-06-20 23:00:00+00:00  FR04014       no2   21.8\n2  2019-06-20 22:00:00+00:00  FR04014       no2   26.5\n3  2019-06-20 21:00:00+00:00  FR04014       no2   24.9\n4  2019-06-20 20:00:00+00:00  FR04014       no2   21.4",
      "text/html": "<div>\n<style scoped>\n    .dataframe tbody tr th:only-of-type {\n        vertical-align: middle;\n    }\n\n    .dataframe tbody tr th {\n        vertical-align: top;\n    }\n\n    .dataframe thead th {\n        text-align: right;\n    }\n</style>\n<table border=\"1\" class=\"dataframe\">\n  <thead>\n    <tr style=\"text-align: right;\">\n      <th></th>\n      <th>date.utc</th>\n      <th>location</th>\n      <th>parameter</th>\n      <th>value</th>\n    </tr>\n  </thead>\n  <tbody>\n    <tr>\n      <th>0</th>\n      <td>2019-06-21 00:00:00+00:00</td>\n      <td>FR04014</td>\n      <td>no2</td>\n      <td>20.0</td>\n    </tr>\n    <tr>\n      <th>1</th>\n      <td>2019-06-20 23:00:00+00:00</td>\n      <td>FR04014</td>\n      <td>no2</td>\n      <td>21.8</td>\n    </tr>\n    <tr>\n      <th>2</th>\n      <td>2019-06-20 22:00:00+00:00</td>\n      <td>FR04014</td>\n      <td>no2</td>\n      <td>26.5</td>\n    </tr>\n    <tr>\n      <th>3</th>\n      <td>2019-06-20 21:00:00+00:00</td>\n      <td>FR04014</td>\n      <td>no2</td>\n      <td>24.9</td>\n    </tr>\n    <tr>\n      <th>4</th>\n      <td>2019-06-20 20:00:00+00:00</td>\n      <td>FR04014</td>\n      <td>no2</td>\n      <td>21.4</td>\n    </tr>\n  </tbody>\n</table>\n</div>"
     },
     "execution_count": 5,
     "metadata": {},
     "output_type": "execute_result"
    }
   ],
   "source": [
    "air_quality_no2.head()"
   ],
   "metadata": {
    "collapsed": false,
    "ExecuteTime": {
     "end_time": "2023-09-25T12:57:20.838103Z",
     "start_time": "2023-09-25T12:57:20.827396Z"
    }
   },
   "id": "175ab46307845152"
  },
  {
   "cell_type": "code",
   "execution_count": 6,
   "outputs": [],
   "source": [
    "air_quality_pm25 = pd.read_csv(\"data/air_quality_pm25_long.csv\", parse_dates=True)"
   ],
   "metadata": {
    "collapsed": false,
    "ExecuteTime": {
     "end_time": "2023-09-25T12:57:20.845787Z",
     "start_time": "2023-09-25T12:57:20.837293Z"
    }
   },
   "id": "93725497fcd441b1"
  },
  {
   "cell_type": "code",
   "execution_count": 7,
   "outputs": [],
   "source": [
    "air_quality_pm25 = air_quality_pm25[[\"date.utc\", \"location\", \"parameter\", \"value\"]]"
   ],
   "metadata": {
    "collapsed": false,
    "ExecuteTime": {
     "end_time": "2023-09-25T12:57:20.848985Z",
     "start_time": "2023-09-25T12:57:20.844019Z"
    }
   },
   "id": "7115af7610563fc4"
  },
  {
   "cell_type": "code",
   "execution_count": 8,
   "outputs": [
    {
     "data": {
      "text/plain": "                    date.utc location parameter  value\n0  2019-06-18 06:00:00+00:00  BETR801      pm25   18.0\n1  2019-06-17 08:00:00+00:00  BETR801      pm25    6.5\n2  2019-06-17 07:00:00+00:00  BETR801      pm25   18.5\n3  2019-06-17 06:00:00+00:00  BETR801      pm25   16.0\n4  2019-06-17 05:00:00+00:00  BETR801      pm25    7.5",
      "text/html": "<div>\n<style scoped>\n    .dataframe tbody tr th:only-of-type {\n        vertical-align: middle;\n    }\n\n    .dataframe tbody tr th {\n        vertical-align: top;\n    }\n\n    .dataframe thead th {\n        text-align: right;\n    }\n</style>\n<table border=\"1\" class=\"dataframe\">\n  <thead>\n    <tr style=\"text-align: right;\">\n      <th></th>\n      <th>date.utc</th>\n      <th>location</th>\n      <th>parameter</th>\n      <th>value</th>\n    </tr>\n  </thead>\n  <tbody>\n    <tr>\n      <th>0</th>\n      <td>2019-06-18 06:00:00+00:00</td>\n      <td>BETR801</td>\n      <td>pm25</td>\n      <td>18.0</td>\n    </tr>\n    <tr>\n      <th>1</th>\n      <td>2019-06-17 08:00:00+00:00</td>\n      <td>BETR801</td>\n      <td>pm25</td>\n      <td>6.5</td>\n    </tr>\n    <tr>\n      <th>2</th>\n      <td>2019-06-17 07:00:00+00:00</td>\n      <td>BETR801</td>\n      <td>pm25</td>\n      <td>18.5</td>\n    </tr>\n    <tr>\n      <th>3</th>\n      <td>2019-06-17 06:00:00+00:00</td>\n      <td>BETR801</td>\n      <td>pm25</td>\n      <td>16.0</td>\n    </tr>\n    <tr>\n      <th>4</th>\n      <td>2019-06-17 05:00:00+00:00</td>\n      <td>BETR801</td>\n      <td>pm25</td>\n      <td>7.5</td>\n    </tr>\n  </tbody>\n</table>\n</div>"
     },
     "execution_count": 8,
     "metadata": {},
     "output_type": "execute_result"
    }
   ],
   "source": [
    "air_quality_pm25.head()"
   ],
   "metadata": {
    "collapsed": false,
    "ExecuteTime": {
     "end_time": "2023-09-25T12:57:20.853761Z",
     "start_time": "2023-09-25T12:57:20.850484Z"
    }
   },
   "id": "b79ecfe3fea4fab0"
  },
  {
   "cell_type": "code",
   "execution_count": 9,
   "outputs": [],
   "source": [
    "air_quality = pd.concat([air_quality_pm25, air_quality_no2], axis=0)"
   ],
   "metadata": {
    "collapsed": false,
    "ExecuteTime": {
     "end_time": "2023-09-25T12:57:20.881259Z",
     "start_time": "2023-09-25T12:57:20.853895Z"
    }
   },
   "id": "5ca13a39755b462"
  },
  {
   "cell_type": "code",
   "execution_count": 10,
   "outputs": [
    {
     "data": {
      "text/plain": "                    date.utc location parameter  value\n0  2019-06-18 06:00:00+00:00  BETR801      pm25   18.0\n1  2019-06-17 08:00:00+00:00  BETR801      pm25    6.5\n2  2019-06-17 07:00:00+00:00  BETR801      pm25   18.5\n3  2019-06-17 06:00:00+00:00  BETR801      pm25   16.0\n4  2019-06-17 05:00:00+00:00  BETR801      pm25    7.5",
      "text/html": "<div>\n<style scoped>\n    .dataframe tbody tr th:only-of-type {\n        vertical-align: middle;\n    }\n\n    .dataframe tbody tr th {\n        vertical-align: top;\n    }\n\n    .dataframe thead th {\n        text-align: right;\n    }\n</style>\n<table border=\"1\" class=\"dataframe\">\n  <thead>\n    <tr style=\"text-align: right;\">\n      <th></th>\n      <th>date.utc</th>\n      <th>location</th>\n      <th>parameter</th>\n      <th>value</th>\n    </tr>\n  </thead>\n  <tbody>\n    <tr>\n      <th>0</th>\n      <td>2019-06-18 06:00:00+00:00</td>\n      <td>BETR801</td>\n      <td>pm25</td>\n      <td>18.0</td>\n    </tr>\n    <tr>\n      <th>1</th>\n      <td>2019-06-17 08:00:00+00:00</td>\n      <td>BETR801</td>\n      <td>pm25</td>\n      <td>6.5</td>\n    </tr>\n    <tr>\n      <th>2</th>\n      <td>2019-06-17 07:00:00+00:00</td>\n      <td>BETR801</td>\n      <td>pm25</td>\n      <td>18.5</td>\n    </tr>\n    <tr>\n      <th>3</th>\n      <td>2019-06-17 06:00:00+00:00</td>\n      <td>BETR801</td>\n      <td>pm25</td>\n      <td>16.0</td>\n    </tr>\n    <tr>\n      <th>4</th>\n      <td>2019-06-17 05:00:00+00:00</td>\n      <td>BETR801</td>\n      <td>pm25</td>\n      <td>7.5</td>\n    </tr>\n  </tbody>\n</table>\n</div>"
     },
     "execution_count": 10,
     "metadata": {},
     "output_type": "execute_result"
    }
   ],
   "source": [
    "air_quality.head()"
   ],
   "metadata": {
    "collapsed": false,
    "ExecuteTime": {
     "end_time": "2023-09-25T12:57:20.921658Z",
     "start_time": "2023-09-25T12:57:20.861019Z"
    }
   },
   "id": "e8c584de033a957"
  },
  {
   "cell_type": "code",
   "execution_count": 11,
   "outputs": [
    {
     "name": "stdout",
     "output_type": "stream",
     "text": [
      "Shape of the ``air_quality_pm25`` table:  (1110, 4)\n"
     ]
    }
   ],
   "source": [
    "print('Shape of the ``air_quality_pm25`` table: ', air_quality_pm25.shape)"
   ],
   "metadata": {
    "collapsed": false,
    "ExecuteTime": {
     "end_time": "2023-09-25T12:57:20.960759Z",
     "start_time": "2023-09-25T12:57:20.863909Z"
    }
   },
   "id": "b32c6cf59b7d65f8"
  },
  {
   "cell_type": "code",
   "execution_count": 12,
   "outputs": [
    {
     "name": "stdout",
     "output_type": "stream",
     "text": [
      "Shape of the ``air_quality_no2`` table:  (2068, 4)\n"
     ]
    }
   ],
   "source": [
    "print('Shape of the ``air_quality_no2`` table: ', air_quality_no2.shape)"
   ],
   "metadata": {
    "collapsed": false,
    "ExecuteTime": {
     "end_time": "2023-09-25T12:57:20.960920Z",
     "start_time": "2023-09-25T12:57:20.866438Z"
    }
   },
   "id": "3d8babb3823cf1bd"
  },
  {
   "cell_type": "code",
   "execution_count": 13,
   "outputs": [
    {
     "name": "stdout",
     "output_type": "stream",
     "text": [
      "Shape of the resulting ``air_quality`` table:  (3178, 4)\n"
     ]
    }
   ],
   "source": [
    "print('Shape of the resulting ``air_quality`` table: ', air_quality.shape)"
   ],
   "metadata": {
    "collapsed": false,
    "ExecuteTime": {
     "end_time": "2023-09-25T12:57:21.029023Z",
     "start_time": "2023-09-25T12:57:20.870578Z"
    }
   },
   "id": "7d788a1f3c361913"
  },
  {
   "cell_type": "code",
   "execution_count": 14,
   "outputs": [],
   "source": [
    "air_quality = air_quality.sort_values(\"date.utc\")"
   ],
   "metadata": {
    "collapsed": false,
    "ExecuteTime": {
     "end_time": "2023-09-25T12:57:21.029223Z",
     "start_time": "2023-09-25T12:57:20.878293Z"
    }
   },
   "id": "fdc5a7be883bb44"
  },
  {
   "cell_type": "code",
   "execution_count": 15,
   "outputs": [
    {
     "data": {
      "text/plain": "                       date.utc            location parameter  value\n2067  2019-05-07 01:00:00+00:00  London Westminster       no2   23.0\n1003  2019-05-07 01:00:00+00:00             FR04014       no2   25.0\n100   2019-05-07 01:00:00+00:00             BETR801      pm25   12.5\n1098  2019-05-07 01:00:00+00:00             BETR801       no2   50.5\n1109  2019-05-07 01:00:00+00:00  London Westminster      pm25    8.0",
      "text/html": "<div>\n<style scoped>\n    .dataframe tbody tr th:only-of-type {\n        vertical-align: middle;\n    }\n\n    .dataframe tbody tr th {\n        vertical-align: top;\n    }\n\n    .dataframe thead th {\n        text-align: right;\n    }\n</style>\n<table border=\"1\" class=\"dataframe\">\n  <thead>\n    <tr style=\"text-align: right;\">\n      <th></th>\n      <th>date.utc</th>\n      <th>location</th>\n      <th>parameter</th>\n      <th>value</th>\n    </tr>\n  </thead>\n  <tbody>\n    <tr>\n      <th>2067</th>\n      <td>2019-05-07 01:00:00+00:00</td>\n      <td>London Westminster</td>\n      <td>no2</td>\n      <td>23.0</td>\n    </tr>\n    <tr>\n      <th>1003</th>\n      <td>2019-05-07 01:00:00+00:00</td>\n      <td>FR04014</td>\n      <td>no2</td>\n      <td>25.0</td>\n    </tr>\n    <tr>\n      <th>100</th>\n      <td>2019-05-07 01:00:00+00:00</td>\n      <td>BETR801</td>\n      <td>pm25</td>\n      <td>12.5</td>\n    </tr>\n    <tr>\n      <th>1098</th>\n      <td>2019-05-07 01:00:00+00:00</td>\n      <td>BETR801</td>\n      <td>no2</td>\n      <td>50.5</td>\n    </tr>\n    <tr>\n      <th>1109</th>\n      <td>2019-05-07 01:00:00+00:00</td>\n      <td>London Westminster</td>\n      <td>pm25</td>\n      <td>8.0</td>\n    </tr>\n  </tbody>\n</table>\n</div>"
     },
     "execution_count": 15,
     "metadata": {},
     "output_type": "execute_result"
    }
   ],
   "source": [
    "air_quality.head()"
   ],
   "metadata": {
    "collapsed": false,
    "ExecuteTime": {
     "end_time": "2023-09-25T12:57:21.030751Z",
     "start_time": "2023-09-25T12:57:20.882040Z"
    }
   },
   "id": "8fddd144909c3fe4"
  },
  {
   "cell_type": "code",
   "execution_count": 16,
   "outputs": [],
   "source": [
    "air_quality = pd.concat([air_quality_pm25, air_quality_no2], keys=[\"PM25\", \"NO2\"])"
   ],
   "metadata": {
    "collapsed": false,
    "ExecuteTime": {
     "end_time": "2023-09-25T12:57:21.038158Z",
     "start_time": "2023-09-25T12:57:20.884825Z"
    }
   },
   "id": "fe495a8680f1a0d"
  },
  {
   "cell_type": "code",
   "execution_count": 17,
   "outputs": [
    {
     "data": {
      "text/plain": "                         date.utc location parameter  value\nPM25 0  2019-06-18 06:00:00+00:00  BETR801      pm25   18.0\n     1  2019-06-17 08:00:00+00:00  BETR801      pm25    6.5\n     2  2019-06-17 07:00:00+00:00  BETR801      pm25   18.5\n     3  2019-06-17 06:00:00+00:00  BETR801      pm25   16.0\n     4  2019-06-17 05:00:00+00:00  BETR801      pm25    7.5",
      "text/html": "<div>\n<style scoped>\n    .dataframe tbody tr th:only-of-type {\n        vertical-align: middle;\n    }\n\n    .dataframe tbody tr th {\n        vertical-align: top;\n    }\n\n    .dataframe thead th {\n        text-align: right;\n    }\n</style>\n<table border=\"1\" class=\"dataframe\">\n  <thead>\n    <tr style=\"text-align: right;\">\n      <th></th>\n      <th></th>\n      <th>date.utc</th>\n      <th>location</th>\n      <th>parameter</th>\n      <th>value</th>\n    </tr>\n  </thead>\n  <tbody>\n    <tr>\n      <th rowspan=\"5\" valign=\"top\">PM25</th>\n      <th>0</th>\n      <td>2019-06-18 06:00:00+00:00</td>\n      <td>BETR801</td>\n      <td>pm25</td>\n      <td>18.0</td>\n    </tr>\n    <tr>\n      <th>1</th>\n      <td>2019-06-17 08:00:00+00:00</td>\n      <td>BETR801</td>\n      <td>pm25</td>\n      <td>6.5</td>\n    </tr>\n    <tr>\n      <th>2</th>\n      <td>2019-06-17 07:00:00+00:00</td>\n      <td>BETR801</td>\n      <td>pm25</td>\n      <td>18.5</td>\n    </tr>\n    <tr>\n      <th>3</th>\n      <td>2019-06-17 06:00:00+00:00</td>\n      <td>BETR801</td>\n      <td>pm25</td>\n      <td>16.0</td>\n    </tr>\n    <tr>\n      <th>4</th>\n      <td>2019-06-17 05:00:00+00:00</td>\n      <td>BETR801</td>\n      <td>pm25</td>\n      <td>7.5</td>\n    </tr>\n  </tbody>\n</table>\n</div>"
     },
     "execution_count": 17,
     "metadata": {},
     "output_type": "execute_result"
    }
   ],
   "source": [
    "air_quality.head()"
   ],
   "metadata": {
    "collapsed": false,
    "ExecuteTime": {
     "end_time": "2023-09-25T12:57:21.042872Z",
     "start_time": "2023-09-25T12:57:20.891648Z"
    }
   },
   "id": "bf960fb411268afa"
  },
  {
   "cell_type": "code",
   "execution_count": 18,
   "outputs": [
    {
     "name": "stdout",
     "output_type": "stream",
     "text": [
      "--2023-09-25 21:57:21--  ftp://https/\r\n",
      "           => ‘data/.listing’\r\n",
      "Resolving https (https)... failed: nodename nor servname provided, or not known.\r\n",
      "wget: unable to resolve host address ‘https’\r\n",
      "//: Scheme missing.\r\n",
      "URL transformed to HTTPS due to an HSTS policy\r\n",
      "--2023-09-25 21:57:21--  https://raw.githubusercontent.com/pandas-dev/pandas/main/doc/data/air_quality_stations.csv\r\n",
      "Resolving raw.githubusercontent.com (raw.githubusercontent.com)... 185.199.111.133, 185.199.108.133, 185.199.109.133, ...\r\n",
      "Connecting to raw.githubusercontent.com (raw.githubusercontent.com)|185.199.111.133|:443... connected.\r\n",
      "HTTP request sent, awaiting response... 200 OK\r\n",
      "Length: 1923 (1.9K) [text/plain]\r\n",
      "Saving to: ‘data/air_quality_stations.csv.1’\r\n",
      "\r\n",
      "air_quality_station 100%[===================>]   1.88K  --.-KB/s    in 0s      \r\n",
      "\r\n",
      "2023-09-25 21:57:21 (37.6 KB/s) - ‘data/air_quality_stations.csv.1’ saved [1923/1923]\r\n",
      "\r\n",
      "FINISHED --2023-09-25 21:57:21--\r\n",
      "Total wall clock time: 0.3s\r\n",
      "Downloaded: 1 files, 1.9K in 0s (37.6 KB/s)\r\n"
     ]
    }
   ],
   "source": [
    "!wget https: // raw.githubusercontent.com/pandas-dev/pandas/main/doc/data/air_quality_stations.csv -P data"
   ],
   "metadata": {
    "collapsed": false,
    "ExecuteTime": {
     "end_time": "2023-09-25T12:57:21.461660Z",
     "start_time": "2023-09-25T12:57:20.896264Z"
    }
   },
   "id": "6c2f16efb47cc74"
  },
  {
   "cell_type": "code",
   "execution_count": 19,
   "outputs": [],
   "source": [
    "stations_coord = pd.read_csv(\"data/air_quality_stations.csv\")"
   ],
   "metadata": {
    "collapsed": false,
    "ExecuteTime": {
     "end_time": "2023-09-25T12:57:21.462473Z",
     "start_time": "2023-09-25T12:57:21.451914Z"
    }
   },
   "id": "b9a2579696aeed46"
  },
  {
   "cell_type": "code",
   "execution_count": 20,
   "outputs": [
    {
     "data": {
      "text/plain": "  location  coordinates.latitude  coordinates.longitude\n0  BELAL01              51.23619                4.38522\n1  BELHB23              51.17030                4.34100\n2  BELLD01              51.10998                5.00486\n3  BELLD02              51.12038                5.02155\n4  BELR833              51.32766                4.36226",
      "text/html": "<div>\n<style scoped>\n    .dataframe tbody tr th:only-of-type {\n        vertical-align: middle;\n    }\n\n    .dataframe tbody tr th {\n        vertical-align: top;\n    }\n\n    .dataframe thead th {\n        text-align: right;\n    }\n</style>\n<table border=\"1\" class=\"dataframe\">\n  <thead>\n    <tr style=\"text-align: right;\">\n      <th></th>\n      <th>location</th>\n      <th>coordinates.latitude</th>\n      <th>coordinates.longitude</th>\n    </tr>\n  </thead>\n  <tbody>\n    <tr>\n      <th>0</th>\n      <td>BELAL01</td>\n      <td>51.23619</td>\n      <td>4.38522</td>\n    </tr>\n    <tr>\n      <th>1</th>\n      <td>BELHB23</td>\n      <td>51.17030</td>\n      <td>4.34100</td>\n    </tr>\n    <tr>\n      <th>2</th>\n      <td>BELLD01</td>\n      <td>51.10998</td>\n      <td>5.00486</td>\n    </tr>\n    <tr>\n      <th>3</th>\n      <td>BELLD02</td>\n      <td>51.12038</td>\n      <td>5.02155</td>\n    </tr>\n    <tr>\n      <th>4</th>\n      <td>BELR833</td>\n      <td>51.32766</td>\n      <td>4.36226</td>\n    </tr>\n  </tbody>\n</table>\n</div>"
     },
     "execution_count": 20,
     "metadata": {},
     "output_type": "execute_result"
    }
   ],
   "source": [
    "stations_coord.head()"
   ],
   "metadata": {
    "collapsed": false,
    "ExecuteTime": {
     "end_time": "2023-09-25T12:57:21.512147Z",
     "start_time": "2023-09-25T12:57:21.460430Z"
    }
   },
   "id": "6975f30ffcefafb9"
  },
  {
   "cell_type": "code",
   "execution_count": 21,
   "outputs": [
    {
     "data": {
      "text/plain": "                         date.utc location parameter  value\nPM25 0  2019-06-18 06:00:00+00:00  BETR801      pm25   18.0\n     1  2019-06-17 08:00:00+00:00  BETR801      pm25    6.5\n     2  2019-06-17 07:00:00+00:00  BETR801      pm25   18.5\n     3  2019-06-17 06:00:00+00:00  BETR801      pm25   16.0\n     4  2019-06-17 05:00:00+00:00  BETR801      pm25    7.5",
      "text/html": "<div>\n<style scoped>\n    .dataframe tbody tr th:only-of-type {\n        vertical-align: middle;\n    }\n\n    .dataframe tbody tr th {\n        vertical-align: top;\n    }\n\n    .dataframe thead th {\n        text-align: right;\n    }\n</style>\n<table border=\"1\" class=\"dataframe\">\n  <thead>\n    <tr style=\"text-align: right;\">\n      <th></th>\n      <th></th>\n      <th>date.utc</th>\n      <th>location</th>\n      <th>parameter</th>\n      <th>value</th>\n    </tr>\n  </thead>\n  <tbody>\n    <tr>\n      <th rowspan=\"5\" valign=\"top\">PM25</th>\n      <th>0</th>\n      <td>2019-06-18 06:00:00+00:00</td>\n      <td>BETR801</td>\n      <td>pm25</td>\n      <td>18.0</td>\n    </tr>\n    <tr>\n      <th>1</th>\n      <td>2019-06-17 08:00:00+00:00</td>\n      <td>BETR801</td>\n      <td>pm25</td>\n      <td>6.5</td>\n    </tr>\n    <tr>\n      <th>2</th>\n      <td>2019-06-17 07:00:00+00:00</td>\n      <td>BETR801</td>\n      <td>pm25</td>\n      <td>18.5</td>\n    </tr>\n    <tr>\n      <th>3</th>\n      <td>2019-06-17 06:00:00+00:00</td>\n      <td>BETR801</td>\n      <td>pm25</td>\n      <td>16.0</td>\n    </tr>\n    <tr>\n      <th>4</th>\n      <td>2019-06-17 05:00:00+00:00</td>\n      <td>BETR801</td>\n      <td>pm25</td>\n      <td>7.5</td>\n    </tr>\n  </tbody>\n</table>\n</div>"
     },
     "execution_count": 21,
     "metadata": {},
     "output_type": "execute_result"
    }
   ],
   "source": [
    "air_quality.head()"
   ],
   "metadata": {
    "collapsed": false,
    "ExecuteTime": {
     "end_time": "2023-09-25T12:57:21.513567Z",
     "start_time": "2023-09-25T12:57:21.467501Z"
    }
   },
   "id": "bbf6354998c79c4c"
  },
  {
   "cell_type": "code",
   "execution_count": 22,
   "outputs": [],
   "source": [
    "air_quality = pd.merge(air_quality, stations_coord, how=\"left\", on=\"location\")"
   ],
   "metadata": {
    "collapsed": false,
    "ExecuteTime": {
     "end_time": "2023-09-25T12:57:21.513660Z",
     "start_time": "2023-09-25T12:57:21.473047Z"
    }
   },
   "id": "d61d8a3dd393dd11"
  },
  {
   "cell_type": "code",
   "execution_count": 23,
   "outputs": [
    {
     "data": {
      "text/plain": "                    date.utc location parameter  value  coordinates.latitude  \\\n0  2019-06-18 06:00:00+00:00  BETR801      pm25   18.0              51.20966   \n1  2019-06-17 08:00:00+00:00  BETR801      pm25    6.5              51.20966   \n2  2019-06-17 07:00:00+00:00  BETR801      pm25   18.5              51.20966   \n3  2019-06-17 06:00:00+00:00  BETR801      pm25   16.0              51.20966   \n4  2019-06-17 05:00:00+00:00  BETR801      pm25    7.5              51.20966   \n\n   coordinates.longitude  \n0                4.43182  \n1                4.43182  \n2                4.43182  \n3                4.43182  \n4                4.43182  ",
      "text/html": "<div>\n<style scoped>\n    .dataframe tbody tr th:only-of-type {\n        vertical-align: middle;\n    }\n\n    .dataframe tbody tr th {\n        vertical-align: top;\n    }\n\n    .dataframe thead th {\n        text-align: right;\n    }\n</style>\n<table border=\"1\" class=\"dataframe\">\n  <thead>\n    <tr style=\"text-align: right;\">\n      <th></th>\n      <th>date.utc</th>\n      <th>location</th>\n      <th>parameter</th>\n      <th>value</th>\n      <th>coordinates.latitude</th>\n      <th>coordinates.longitude</th>\n    </tr>\n  </thead>\n  <tbody>\n    <tr>\n      <th>0</th>\n      <td>2019-06-18 06:00:00+00:00</td>\n      <td>BETR801</td>\n      <td>pm25</td>\n      <td>18.0</td>\n      <td>51.20966</td>\n      <td>4.43182</td>\n    </tr>\n    <tr>\n      <th>1</th>\n      <td>2019-06-17 08:00:00+00:00</td>\n      <td>BETR801</td>\n      <td>pm25</td>\n      <td>6.5</td>\n      <td>51.20966</td>\n      <td>4.43182</td>\n    </tr>\n    <tr>\n      <th>2</th>\n      <td>2019-06-17 07:00:00+00:00</td>\n      <td>BETR801</td>\n      <td>pm25</td>\n      <td>18.5</td>\n      <td>51.20966</td>\n      <td>4.43182</td>\n    </tr>\n    <tr>\n      <th>3</th>\n      <td>2019-06-17 06:00:00+00:00</td>\n      <td>BETR801</td>\n      <td>pm25</td>\n      <td>16.0</td>\n      <td>51.20966</td>\n      <td>4.43182</td>\n    </tr>\n    <tr>\n      <th>4</th>\n      <td>2019-06-17 05:00:00+00:00</td>\n      <td>BETR801</td>\n      <td>pm25</td>\n      <td>7.5</td>\n      <td>51.20966</td>\n      <td>4.43182</td>\n    </tr>\n  </tbody>\n</table>\n</div>"
     },
     "execution_count": 23,
     "metadata": {},
     "output_type": "execute_result"
    }
   ],
   "source": [
    "air_quality.head()"
   ],
   "metadata": {
    "collapsed": false,
    "ExecuteTime": {
     "end_time": "2023-09-25T12:57:21.540308Z",
     "start_time": "2023-09-25T12:57:21.481588Z"
    }
   },
   "id": "47bfa957db8de93f"
  },
  {
   "cell_type": "code",
   "execution_count": 24,
   "outputs": [
    {
     "name": "stdout",
     "output_type": "stream",
     "text": [
      "--2023-09-25 21:57:21--  ftp://https/\r\n",
      "           => ‘data/.listing’\r\n",
      "Resolving https (https)... failed: nodename nor servname provided, or not known.\r\n",
      "wget: unable to resolve host address ‘https’\r\n",
      "//: Scheme missing.\r\n",
      "URL transformed to HTTPS due to an HSTS policy\r\n",
      "--2023-09-25 21:57:21--  https://raw.githubusercontent.com/pandas-dev/pandas/main/doc/data/air_quality_parameters.csv\r\n",
      "Resolving raw.githubusercontent.com (raw.githubusercontent.com)... 185.199.111.133, 185.199.108.133, 185.199.109.133, ...\r\n",
      "Connecting to raw.githubusercontent.com (raw.githubusercontent.com)|185.199.111.133|:443... connected.\r\n",
      "HTTP request sent, awaiting response... 200 OK\r\n",
      "Length: 255 [text/plain]\r\n",
      "Saving to: ‘data/air_quality_parameters.csv.1’\r\n",
      "\r\n",
      "air_quality_paramet 100%[===================>]     255  --.-KB/s    in 0s      \r\n",
      "\r\n",
      "2023-09-25 21:57:21 (4.98 KB/s) - ‘data/air_quality_parameters.csv.1’ saved [255/255]\r\n",
      "\r\n",
      "FINISHED --2023-09-25 21:57:21--\r\n",
      "Total wall clock time: 0.3s\r\n",
      "Downloaded: 1 files, 255 in 0s (4.98 KB/s)\r\n"
     ]
    }
   ],
   "source": [
    "!wget https: // raw.githubusercontent.com/pandas-dev/pandas/main/doc/data/air_quality_parameters.csv -P data"
   ],
   "metadata": {
    "collapsed": false,
    "ExecuteTime": {
     "end_time": "2023-09-25T12:57:22.085036Z",
     "start_time": "2023-09-25T12:57:21.486897Z"
    }
   },
   "id": "b0d73253b67dd1e2"
  },
  {
   "cell_type": "code",
   "execution_count": 25,
   "outputs": [],
   "source": [
    "air_quality_parameters = pd.read_csv(\"data/air_quality_parameters.csv\")"
   ],
   "metadata": {
    "collapsed": false,
    "ExecuteTime": {
     "end_time": "2023-09-25T12:57:22.085303Z",
     "start_time": "2023-09-25T12:57:22.063087Z"
    }
   },
   "id": "7b667474bddf1259"
  },
  {
   "cell_type": "code",
   "execution_count": 26,
   "outputs": [
    {
     "data": {
      "text/plain": "     id                                        description  name\n0    bc                                       Black Carbon    BC\n1    co                                    Carbon Monoxide    CO\n2   no2                                   Nitrogen Dioxide   NO2\n3    o3                                              Ozone    O3\n4  pm10  Particulate matter less than 10 micrometers in...  PM10",
      "text/html": "<div>\n<style scoped>\n    .dataframe tbody tr th:only-of-type {\n        vertical-align: middle;\n    }\n\n    .dataframe tbody tr th {\n        vertical-align: top;\n    }\n\n    .dataframe thead th {\n        text-align: right;\n    }\n</style>\n<table border=\"1\" class=\"dataframe\">\n  <thead>\n    <tr style=\"text-align: right;\">\n      <th></th>\n      <th>id</th>\n      <th>description</th>\n      <th>name</th>\n    </tr>\n  </thead>\n  <tbody>\n    <tr>\n      <th>0</th>\n      <td>bc</td>\n      <td>Black Carbon</td>\n      <td>BC</td>\n    </tr>\n    <tr>\n      <th>1</th>\n      <td>co</td>\n      <td>Carbon Monoxide</td>\n      <td>CO</td>\n    </tr>\n    <tr>\n      <th>2</th>\n      <td>no2</td>\n      <td>Nitrogen Dioxide</td>\n      <td>NO2</td>\n    </tr>\n    <tr>\n      <th>3</th>\n      <td>o3</td>\n      <td>Ozone</td>\n      <td>O3</td>\n    </tr>\n    <tr>\n      <th>4</th>\n      <td>pm10</td>\n      <td>Particulate matter less than 10 micrometers in...</td>\n      <td>PM10</td>\n    </tr>\n  </tbody>\n</table>\n</div>"
     },
     "execution_count": 26,
     "metadata": {},
     "output_type": "execute_result"
    }
   ],
   "source": [
    "air_quality_parameters.head()"
   ],
   "metadata": {
    "collapsed": false,
    "ExecuteTime": {
     "end_time": "2023-09-25T12:57:22.085566Z",
     "start_time": "2023-09-25T12:57:22.070880Z"
    }
   },
   "id": "ec5f5e7d12dfe6b9"
  },
  {
   "cell_type": "code",
   "execution_count": 27,
   "outputs": [],
   "source": [
    "air_quality = pd.merge(air_quality, air_quality_parameters, how=\"left\", left_on=\"parameter\", right_on=\"id\")"
   ],
   "metadata": {
    "collapsed": false,
    "ExecuteTime": {
     "end_time": "2023-09-25T12:57:22.085608Z",
     "start_time": "2023-09-25T12:57:22.074228Z"
    }
   },
   "id": "fd510f2d06411d20"
  },
  {
   "cell_type": "code",
   "execution_count": 28,
   "outputs": [
    {
     "data": {
      "text/plain": "                    date.utc location parameter  value  coordinates.latitude  \\\n0  2019-06-18 06:00:00+00:00  BETR801      pm25   18.0              51.20966   \n1  2019-06-17 08:00:00+00:00  BETR801      pm25    6.5              51.20966   \n2  2019-06-17 07:00:00+00:00  BETR801      pm25   18.5              51.20966   \n3  2019-06-17 06:00:00+00:00  BETR801      pm25   16.0              51.20966   \n4  2019-06-17 05:00:00+00:00  BETR801      pm25    7.5              51.20966   \n\n   coordinates.longitude    id  \\\n0                4.43182  pm25   \n1                4.43182  pm25   \n2                4.43182  pm25   \n3                4.43182  pm25   \n4                4.43182  pm25   \n\n                                         description   name  \n0  Particulate matter less than 2.5 micrometers i...  PM2.5  \n1  Particulate matter less than 2.5 micrometers i...  PM2.5  \n2  Particulate matter less than 2.5 micrometers i...  PM2.5  \n3  Particulate matter less than 2.5 micrometers i...  PM2.5  \n4  Particulate matter less than 2.5 micrometers i...  PM2.5  ",
      "text/html": "<div>\n<style scoped>\n    .dataframe tbody tr th:only-of-type {\n        vertical-align: middle;\n    }\n\n    .dataframe tbody tr th {\n        vertical-align: top;\n    }\n\n    .dataframe thead th {\n        text-align: right;\n    }\n</style>\n<table border=\"1\" class=\"dataframe\">\n  <thead>\n    <tr style=\"text-align: right;\">\n      <th></th>\n      <th>date.utc</th>\n      <th>location</th>\n      <th>parameter</th>\n      <th>value</th>\n      <th>coordinates.latitude</th>\n      <th>coordinates.longitude</th>\n      <th>id</th>\n      <th>description</th>\n      <th>name</th>\n    </tr>\n  </thead>\n  <tbody>\n    <tr>\n      <th>0</th>\n      <td>2019-06-18 06:00:00+00:00</td>\n      <td>BETR801</td>\n      <td>pm25</td>\n      <td>18.0</td>\n      <td>51.20966</td>\n      <td>4.43182</td>\n      <td>pm25</td>\n      <td>Particulate matter less than 2.5 micrometers i...</td>\n      <td>PM2.5</td>\n    </tr>\n    <tr>\n      <th>1</th>\n      <td>2019-06-17 08:00:00+00:00</td>\n      <td>BETR801</td>\n      <td>pm25</td>\n      <td>6.5</td>\n      <td>51.20966</td>\n      <td>4.43182</td>\n      <td>pm25</td>\n      <td>Particulate matter less than 2.5 micrometers i...</td>\n      <td>PM2.5</td>\n    </tr>\n    <tr>\n      <th>2</th>\n      <td>2019-06-17 07:00:00+00:00</td>\n      <td>BETR801</td>\n      <td>pm25</td>\n      <td>18.5</td>\n      <td>51.20966</td>\n      <td>4.43182</td>\n      <td>pm25</td>\n      <td>Particulate matter less than 2.5 micrometers i...</td>\n      <td>PM2.5</td>\n    </tr>\n    <tr>\n      <th>3</th>\n      <td>2019-06-17 06:00:00+00:00</td>\n      <td>BETR801</td>\n      <td>pm25</td>\n      <td>16.0</td>\n      <td>51.20966</td>\n      <td>4.43182</td>\n      <td>pm25</td>\n      <td>Particulate matter less than 2.5 micrometers i...</td>\n      <td>PM2.5</td>\n    </tr>\n    <tr>\n      <th>4</th>\n      <td>2019-06-17 05:00:00+00:00</td>\n      <td>BETR801</td>\n      <td>pm25</td>\n      <td>7.5</td>\n      <td>51.20966</td>\n      <td>4.43182</td>\n      <td>pm25</td>\n      <td>Particulate matter less than 2.5 micrometers i...</td>\n      <td>PM2.5</td>\n    </tr>\n  </tbody>\n</table>\n</div>"
     },
     "execution_count": 28,
     "metadata": {},
     "output_type": "execute_result"
    }
   ],
   "source": [
    "air_quality.head()"
   ],
   "metadata": {
    "collapsed": false,
    "ExecuteTime": {
     "end_time": "2023-09-25T12:57:22.094348Z",
     "start_time": "2023-09-25T12:57:22.082026Z"
    }
   },
   "id": "652264e46341ef80"
  }
 ],
 "metadata": {
  "kernelspec": {
   "display_name": "Python 3",
   "language": "python",
   "name": "python3"
  },
  "language_info": {
   "codemirror_mode": {
    "name": "ipython",
    "version": 2
   },
   "file_extension": ".py",
   "mimetype": "text/x-python",
   "name": "python",
   "nbconvert_exporter": "python",
   "pygments_lexer": "ipython2",
   "version": "2.7.6"
  }
 },
 "nbformat": 4,
 "nbformat_minor": 5
}
