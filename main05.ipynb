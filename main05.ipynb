{
 "cells": [
  {
   "cell_type": "code",
   "execution_count": 1,
   "id": "initial_id",
   "metadata": {
    "collapsed": true,
    "ExecuteTime": {
     "end_time": "2023-09-24T12:23:27.908215Z",
     "start_time": "2023-09-24T12:23:27.402461Z"
    }
   },
   "outputs": [],
   "source": [
    "import pandas as pd"
   ]
  },
  {
   "cell_type": "code",
   "execution_count": 2,
   "outputs": [
    {
     "data": {
      "text/plain": "                     station_antwerp  station_paris  station_london\ndatetime                                                           \n2019-05-07 02:00:00              NaN            NaN            23.0\n2019-05-07 03:00:00             50.5           25.0            19.0\n2019-05-07 04:00:00             45.0           27.7            19.0\n2019-05-07 05:00:00              NaN           50.4            16.0\n2019-05-07 06:00:00              NaN           61.9             NaN",
      "text/html": "<div>\n<style scoped>\n    .dataframe tbody tr th:only-of-type {\n        vertical-align: middle;\n    }\n\n    .dataframe tbody tr th {\n        vertical-align: top;\n    }\n\n    .dataframe thead th {\n        text-align: right;\n    }\n</style>\n<table border=\"1\" class=\"dataframe\">\n  <thead>\n    <tr style=\"text-align: right;\">\n      <th></th>\n      <th>station_antwerp</th>\n      <th>station_paris</th>\n      <th>station_london</th>\n    </tr>\n    <tr>\n      <th>datetime</th>\n      <th></th>\n      <th></th>\n      <th></th>\n    </tr>\n  </thead>\n  <tbody>\n    <tr>\n      <th>2019-05-07 02:00:00</th>\n      <td>NaN</td>\n      <td>NaN</td>\n      <td>23.0</td>\n    </tr>\n    <tr>\n      <th>2019-05-07 03:00:00</th>\n      <td>50.5</td>\n      <td>25.0</td>\n      <td>19.0</td>\n    </tr>\n    <tr>\n      <th>2019-05-07 04:00:00</th>\n      <td>45.0</td>\n      <td>27.7</td>\n      <td>19.0</td>\n    </tr>\n    <tr>\n      <th>2019-05-07 05:00:00</th>\n      <td>NaN</td>\n      <td>50.4</td>\n      <td>16.0</td>\n    </tr>\n    <tr>\n      <th>2019-05-07 06:00:00</th>\n      <td>NaN</td>\n      <td>61.9</td>\n      <td>NaN</td>\n    </tr>\n  </tbody>\n</table>\n</div>"
     },
     "execution_count": 2,
     "metadata": {},
     "output_type": "execute_result"
    }
   ],
   "source": [
    "air_quality = pd.read_csv(\"data/air_quality_no2.csv\", index_col=0, parse_dates=True)\n",
    "air_quality.head()"
   ],
   "metadata": {
    "collapsed": false,
    "ExecuteTime": {
     "end_time": "2023-09-24T12:23:51.234190Z",
     "start_time": "2023-09-24T12:23:51.216790Z"
    }
   },
   "id": "2ab9a915f7685d39"
  },
  {
   "cell_type": "code",
   "execution_count": 3,
   "outputs": [
    {
     "data": {
      "text/plain": "                     station_antwerp  station_paris  station_london  \\\ndatetime                                                              \n2019-05-07 02:00:00              NaN            NaN            23.0   \n2019-05-07 03:00:00             50.5           25.0            19.0   \n2019-05-07 04:00:00             45.0           27.7            19.0   \n2019-05-07 05:00:00              NaN           50.4            16.0   \n2019-05-07 06:00:00              NaN           61.9             NaN   \n\n                     london_mg_per_cubic  \ndatetime                                  \n2019-05-07 02:00:00               43.286  \n2019-05-07 03:00:00               35.758  \n2019-05-07 04:00:00               35.758  \n2019-05-07 05:00:00               30.112  \n2019-05-07 06:00:00                  NaN  ",
      "text/html": "<div>\n<style scoped>\n    .dataframe tbody tr th:only-of-type {\n        vertical-align: middle;\n    }\n\n    .dataframe tbody tr th {\n        vertical-align: top;\n    }\n\n    .dataframe thead th {\n        text-align: right;\n    }\n</style>\n<table border=\"1\" class=\"dataframe\">\n  <thead>\n    <tr style=\"text-align: right;\">\n      <th></th>\n      <th>station_antwerp</th>\n      <th>station_paris</th>\n      <th>station_london</th>\n      <th>london_mg_per_cubic</th>\n    </tr>\n    <tr>\n      <th>datetime</th>\n      <th></th>\n      <th></th>\n      <th></th>\n      <th></th>\n    </tr>\n  </thead>\n  <tbody>\n    <tr>\n      <th>2019-05-07 02:00:00</th>\n      <td>NaN</td>\n      <td>NaN</td>\n      <td>23.0</td>\n      <td>43.286</td>\n    </tr>\n    <tr>\n      <th>2019-05-07 03:00:00</th>\n      <td>50.5</td>\n      <td>25.0</td>\n      <td>19.0</td>\n      <td>35.758</td>\n    </tr>\n    <tr>\n      <th>2019-05-07 04:00:00</th>\n      <td>45.0</td>\n      <td>27.7</td>\n      <td>19.0</td>\n      <td>35.758</td>\n    </tr>\n    <tr>\n      <th>2019-05-07 05:00:00</th>\n      <td>NaN</td>\n      <td>50.4</td>\n      <td>16.0</td>\n      <td>30.112</td>\n    </tr>\n    <tr>\n      <th>2019-05-07 06:00:00</th>\n      <td>NaN</td>\n      <td>61.9</td>\n      <td>NaN</td>\n      <td>NaN</td>\n    </tr>\n  </tbody>\n</table>\n</div>"
     },
     "execution_count": 3,
     "metadata": {},
     "output_type": "execute_result"
    }
   ],
   "source": [
    "air_quality[\"london_mg_per_cubic\"] = air_quality[\"station_london\"] * 1.882\n",
    "air_quality.head()"
   ],
   "metadata": {
    "collapsed": false,
    "ExecuteTime": {
     "end_time": "2023-09-24T12:25:05.726713Z",
     "start_time": "2023-09-24T12:25:05.719722Z"
    }
   },
   "id": "8db905afacd6e7c5"
  },
  {
   "cell_type": "code",
   "execution_count": 4,
   "outputs": [
    {
     "data": {
      "text/plain": "                     station_antwerp  station_paris  station_london  \\\ndatetime                                                              \n2019-05-07 02:00:00              NaN            NaN            23.0   \n2019-05-07 03:00:00             50.5           25.0            19.0   \n2019-05-07 04:00:00             45.0           27.7            19.0   \n2019-05-07 05:00:00              NaN           50.4            16.0   \n2019-05-07 06:00:00              NaN           61.9             NaN   \n\n                     london_mg_per_cubic  ratio_paris_antwerp  \ndatetime                                                       \n2019-05-07 02:00:00               43.286                  NaN  \n2019-05-07 03:00:00               35.758             0.495050  \n2019-05-07 04:00:00               35.758             0.615556  \n2019-05-07 05:00:00               30.112                  NaN  \n2019-05-07 06:00:00                  NaN                  NaN  ",
      "text/html": "<div>\n<style scoped>\n    .dataframe tbody tr th:only-of-type {\n        vertical-align: middle;\n    }\n\n    .dataframe tbody tr th {\n        vertical-align: top;\n    }\n\n    .dataframe thead th {\n        text-align: right;\n    }\n</style>\n<table border=\"1\" class=\"dataframe\">\n  <thead>\n    <tr style=\"text-align: right;\">\n      <th></th>\n      <th>station_antwerp</th>\n      <th>station_paris</th>\n      <th>station_london</th>\n      <th>london_mg_per_cubic</th>\n      <th>ratio_paris_antwerp</th>\n    </tr>\n    <tr>\n      <th>datetime</th>\n      <th></th>\n      <th></th>\n      <th></th>\n      <th></th>\n      <th></th>\n    </tr>\n  </thead>\n  <tbody>\n    <tr>\n      <th>2019-05-07 02:00:00</th>\n      <td>NaN</td>\n      <td>NaN</td>\n      <td>23.0</td>\n      <td>43.286</td>\n      <td>NaN</td>\n    </tr>\n    <tr>\n      <th>2019-05-07 03:00:00</th>\n      <td>50.5</td>\n      <td>25.0</td>\n      <td>19.0</td>\n      <td>35.758</td>\n      <td>0.495050</td>\n    </tr>\n    <tr>\n      <th>2019-05-07 04:00:00</th>\n      <td>45.0</td>\n      <td>27.7</td>\n      <td>19.0</td>\n      <td>35.758</td>\n      <td>0.615556</td>\n    </tr>\n    <tr>\n      <th>2019-05-07 05:00:00</th>\n      <td>NaN</td>\n      <td>50.4</td>\n      <td>16.0</td>\n      <td>30.112</td>\n      <td>NaN</td>\n    </tr>\n    <tr>\n      <th>2019-05-07 06:00:00</th>\n      <td>NaN</td>\n      <td>61.9</td>\n      <td>NaN</td>\n      <td>NaN</td>\n      <td>NaN</td>\n    </tr>\n  </tbody>\n</table>\n</div>"
     },
     "execution_count": 4,
     "metadata": {},
     "output_type": "execute_result"
    }
   ],
   "source": [
    "air_quality[\"ratio_paris_antwerp\"] = (\n",
    "        air_quality[\"station_paris\"] / air_quality[\"station_antwerp\"]\n",
    ")\n",
    "air_quality.head()"
   ],
   "metadata": {
    "collapsed": false,
    "ExecuteTime": {
     "end_time": "2023-09-24T12:26:49.919193Z",
     "start_time": "2023-09-24T12:26:49.899898Z"
    }
   },
   "id": "7db1957f276781ae"
  },
  {
   "cell_type": "code",
   "execution_count": 6,
   "outputs": [
    {
     "data": {
      "text/plain": "                     BETR801  FR04014  London Westminster  \\\ndatetime                                                    \n2019-05-07 02:00:00      NaN      NaN                23.0   \n2019-05-07 03:00:00     50.5     25.0                19.0   \n2019-05-07 04:00:00     45.0     27.7                19.0   \n2019-05-07 05:00:00      NaN     50.4                16.0   \n2019-05-07 06:00:00      NaN     61.9                 NaN   \n\n                     london_mg_per_cubic  ratio_paris_antwerp  \ndatetime                                                       \n2019-05-07 02:00:00               43.286                  NaN  \n2019-05-07 03:00:00               35.758             0.495050  \n2019-05-07 04:00:00               35.758             0.615556  \n2019-05-07 05:00:00               30.112                  NaN  \n2019-05-07 06:00:00                  NaN                  NaN  ",
      "text/html": "<div>\n<style scoped>\n    .dataframe tbody tr th:only-of-type {\n        vertical-align: middle;\n    }\n\n    .dataframe tbody tr th {\n        vertical-align: top;\n    }\n\n    .dataframe thead th {\n        text-align: right;\n    }\n</style>\n<table border=\"1\" class=\"dataframe\">\n  <thead>\n    <tr style=\"text-align: right;\">\n      <th></th>\n      <th>BETR801</th>\n      <th>FR04014</th>\n      <th>London Westminster</th>\n      <th>london_mg_per_cubic</th>\n      <th>ratio_paris_antwerp</th>\n    </tr>\n    <tr>\n      <th>datetime</th>\n      <th></th>\n      <th></th>\n      <th></th>\n      <th></th>\n      <th></th>\n    </tr>\n  </thead>\n  <tbody>\n    <tr>\n      <th>2019-05-07 02:00:00</th>\n      <td>NaN</td>\n      <td>NaN</td>\n      <td>23.0</td>\n      <td>43.286</td>\n      <td>NaN</td>\n    </tr>\n    <tr>\n      <th>2019-05-07 03:00:00</th>\n      <td>50.5</td>\n      <td>25.0</td>\n      <td>19.0</td>\n      <td>35.758</td>\n      <td>0.495050</td>\n    </tr>\n    <tr>\n      <th>2019-05-07 04:00:00</th>\n      <td>45.0</td>\n      <td>27.7</td>\n      <td>19.0</td>\n      <td>35.758</td>\n      <td>0.615556</td>\n    </tr>\n    <tr>\n      <th>2019-05-07 05:00:00</th>\n      <td>NaN</td>\n      <td>50.4</td>\n      <td>16.0</td>\n      <td>30.112</td>\n      <td>NaN</td>\n    </tr>\n    <tr>\n      <th>2019-05-07 06:00:00</th>\n      <td>NaN</td>\n      <td>61.9</td>\n      <td>NaN</td>\n      <td>NaN</td>\n      <td>NaN</td>\n    </tr>\n  </tbody>\n</table>\n</div>"
     },
     "execution_count": 6,
     "metadata": {},
     "output_type": "execute_result"
    }
   ],
   "source": [
    "air_quality_renamed = air_quality.rename(\n",
    "    columns={\n",
    "        \"station_antwerp\": \"BETR801\",\n",
    "        \"station_paris\": \"FR04014\",\n",
    "        \"station_london\": \"London Westminster\",\n",
    "    }\n",
    ")\n",
    "air_quality_renamed.head()"
   ],
   "metadata": {
    "collapsed": false,
    "ExecuteTime": {
     "end_time": "2023-09-24T12:31:03.010877Z",
     "start_time": "2023-09-24T12:31:03.001889Z"
    }
   },
   "id": "43b6629051a3dcfd"
  },
  {
   "cell_type": "code",
   "execution_count": 7,
   "outputs": [
    {
     "data": {
      "text/plain": "                     betr801  fr04014  london westminster  \\\ndatetime                                                    \n2019-05-07 02:00:00      NaN      NaN                23.0   \n2019-05-07 03:00:00     50.5     25.0                19.0   \n2019-05-07 04:00:00     45.0     27.7                19.0   \n2019-05-07 05:00:00      NaN     50.4                16.0   \n2019-05-07 06:00:00      NaN     61.9                 NaN   \n\n                     london_mg_per_cubic  ratio_paris_antwerp  \ndatetime                                                       \n2019-05-07 02:00:00               43.286                  NaN  \n2019-05-07 03:00:00               35.758             0.495050  \n2019-05-07 04:00:00               35.758             0.615556  \n2019-05-07 05:00:00               30.112                  NaN  \n2019-05-07 06:00:00                  NaN                  NaN  ",
      "text/html": "<div>\n<style scoped>\n    .dataframe tbody tr th:only-of-type {\n        vertical-align: middle;\n    }\n\n    .dataframe tbody tr th {\n        vertical-align: top;\n    }\n\n    .dataframe thead th {\n        text-align: right;\n    }\n</style>\n<table border=\"1\" class=\"dataframe\">\n  <thead>\n    <tr style=\"text-align: right;\">\n      <th></th>\n      <th>betr801</th>\n      <th>fr04014</th>\n      <th>london westminster</th>\n      <th>london_mg_per_cubic</th>\n      <th>ratio_paris_antwerp</th>\n    </tr>\n    <tr>\n      <th>datetime</th>\n      <th></th>\n      <th></th>\n      <th></th>\n      <th></th>\n      <th></th>\n    </tr>\n  </thead>\n  <tbody>\n    <tr>\n      <th>2019-05-07 02:00:00</th>\n      <td>NaN</td>\n      <td>NaN</td>\n      <td>23.0</td>\n      <td>43.286</td>\n      <td>NaN</td>\n    </tr>\n    <tr>\n      <th>2019-05-07 03:00:00</th>\n      <td>50.5</td>\n      <td>25.0</td>\n      <td>19.0</td>\n      <td>35.758</td>\n      <td>0.495050</td>\n    </tr>\n    <tr>\n      <th>2019-05-07 04:00:00</th>\n      <td>45.0</td>\n      <td>27.7</td>\n      <td>19.0</td>\n      <td>35.758</td>\n      <td>0.615556</td>\n    </tr>\n    <tr>\n      <th>2019-05-07 05:00:00</th>\n      <td>NaN</td>\n      <td>50.4</td>\n      <td>16.0</td>\n      <td>30.112</td>\n      <td>NaN</td>\n    </tr>\n    <tr>\n      <th>2019-05-07 06:00:00</th>\n      <td>NaN</td>\n      <td>61.9</td>\n      <td>NaN</td>\n      <td>NaN</td>\n      <td>NaN</td>\n    </tr>\n  </tbody>\n</table>\n</div>"
     },
     "execution_count": 7,
     "metadata": {},
     "output_type": "execute_result"
    }
   ],
   "source": [
    "air_quality_renamed = air_quality_renamed.rename(columns=str.lower)\n",
    "air_quality_renamed.head()"
   ],
   "metadata": {
    "collapsed": false,
    "ExecuteTime": {
     "end_time": "2023-09-24T12:59:43.749704Z",
     "start_time": "2023-09-24T12:59:43.721997Z"
    }
   },
   "id": "e322ab95a81088db"
  }
 ],
 "metadata": {
  "kernelspec": {
   "display_name": "Python 3",
   "language": "python",
   "name": "python3"
  },
  "language_info": {
   "codemirror_mode": {
    "name": "ipython",
    "version": 2
   },
   "file_extension": ".py",
   "mimetype": "text/x-python",
   "name": "python",
   "nbconvert_exporter": "python",
   "pygments_lexer": "ipython2",
   "version": "2.7.6"
  }
 },
 "nbformat": 4,
 "nbformat_minor": 5
}
